{
  "nbformat": 4,
  "nbformat_minor": 0,
  "metadata": {
    "colab": {
      "provenance": [],
      "include_colab_link": true
    },
    "kernelspec": {
      "display_name": "Python 3",
      "language": "python",
      "name": "python3"
    },
    "language_info": {
      "codemirror_mode": {
        "name": "ipython",
        "version": 3
      },
      "file_extension": ".py",
      "mimetype": "text/x-python",
      "name": "python",
      "nbconvert_exporter": "python",
      "pygments_lexer": "ipython3",
      "version": "3.8.5"
    }
  },
  "cells": [
    {
      "cell_type": "markdown",
      "metadata": {
        "id": "view-in-github",
        "colab_type": "text"
      },
      "source": [
        "<a href=\"https://colab.research.google.com/github/shubhaan06/subset_selection_problem/blob/main/Subset_Selection_Problem.ipynb\" target=\"_parent\"><img src=\"https://colab.research.google.com/assets/colab-badge.svg\" alt=\"Open In Colab\"/></a>"
      ]
    },
    {
      "cell_type": "markdown",
      "metadata": {
        "id": "7nQSRI4Dim1Y"
      },
      "source": [
        "  ---\n",
        "# **Subset Selection Problem**\n",
        "---\n",
        "####**1. Problem Statement:**\n",
        "Find all the subsets from a set of numbers whose sum is zero.\n",
        "\n",
        "####**Constraint: Subset size must be 5**\n",
        "Set={-12, -3, -6, 7, 2, -2, 6, 3, 9, -7, -5, -8, 1, 11, -9, -4}\n",
        "\n",
        "---"
      ]
    },
    {
      "cell_type": "markdown",
      "metadata": {
        "id": "A30y-VtNim1h"
      },
      "source": [
        "### **1.1 Library inclusion**"
      ]
    },
    {
      "cell_type": "code",
      "metadata": {
        "id": "cF_mSA9Xim1j"
      },
      "source": [
        "import random as r"
      ],
      "execution_count": 20,
      "outputs": []
    },
    {
      "cell_type": "markdown",
      "metadata": {
        "id": "UjvBYy0Lim1m"
      },
      "source": [
        "### **1.2 Parameter Setting**"
      ]
    },
    {
      "cell_type": "code",
      "metadata": {
        "id": "NHB2KMhZim1o"
      },
      "source": [
        "Set         = set([-12, -3, -6, 7, 2, -2, 6, 3, 9, -7, -5, -8, 1, 11, -9, -4])\n",
        "SetSize     = 5\n",
        "ResultList  = set()    # Store Result List i.e. list of sets whose sum is zero\n",
        "Iterations  = 20000    # Number of Inerations"
      ],
      "execution_count": 21,
      "outputs": []
    },
    {
      "cell_type": "markdown",
      "metadata": {
        "id": "BTLd3s--im1c"
      },
      "source": [
        "### **1.3 Start Program**\n",
        "\n",
        "\n"
      ]
    },
    {
      "cell_type": "code",
      "metadata": {
        "id": "veBU-f21im1x",
        "colab": {
          "base_uri": "https://localhost:8080/"
        },
        "outputId": "0b0466e1-f8e9-4b39-8418-ebe594e51462"
      },
      "source": [
        "# Loop till number of Iterations\n",
        "for i in range(Iterations):\n",
        "    # Select number of elements from Set\n",
        "    Chromosome = r.sample(Set,SetSize)\n",
        "\n",
        "    # Sum the number of elements in the Chromosome\n",
        "    if sum(Chromosome) == 0:\n",
        "        ResultList.add(tuple(Chromosome))"
      ],
      "execution_count": 22,
      "outputs": [
        {
          "output_type": "stream",
          "name": "stderr",
          "text": [
            "<ipython-input-22-ed7c48dd8d3e>:4: DeprecationWarning: Sampling from a set deprecated\n",
            "since Python 3.9 and will be removed in a subsequent version.\n",
            "  Chromosome = r.sample(Set,SetSize)\n"
          ]
        }
      ]
    },
    {
      "cell_type": "markdown",
      "metadata": {
        "id": "nRWYsJNVim1z"
      },
      "source": [
        "### **1.4 Print the sets and total count**\n"
      ]
    },
    {
      "cell_type": "code",
      "metadata": {
        "colab": {
          "base_uri": "https://localhost:8080/"
        },
        "id": "41abL1k-im10",
        "scrolled": true,
        "outputId": "596d8edd-05ad-41c3-a067-e4b8948510d9"
      },
      "source": [
        "# Print all the sets whose sum is zero\n",
        "for r in ResultList:\n",
        "\tprint (r)\n",
        "\n",
        "# Print total sets\n",
        "print (\"\\nTotal Sets: \", len(ResultList), \"\\n\")"
      ],
      "execution_count": 16,
      "outputs": [
        {
          "output_type": "stream",
          "name": "stdout",
          "text": [
            "(-7, -4, -2, 6, 7)\n",
            "(-8, -3, 2, 9)\n",
            "(-8, -6, 3, 11)\n",
            "(-5, 2, 3)\n",
            "(-6, -3, -2, 1, 3, 7)\n",
            "(-6, -2, 1, 7)\n",
            "(-8, -4, -3, 1, 3, 11)\n",
            "(-7, -4, 1, 3, 7)\n",
            "(-8, -7, -5, 2, 7, 11)\n",
            "(-4, 1, 3)\n",
            "(-5, -4, 2, 7)\n",
            "(-12, 1, 11)\n",
            "(-12, -3, 1, 3, 11)\n",
            "(-9, -3, 1, 11)\n",
            "(-9, -8, -2, 3, 7, 9)\n",
            "(-8, 2, 6)\n",
            "(-7, -6, -2, 1, 3, 11)\n",
            "(-5, -4, -2, 1, 3, 7)\n",
            "(-12, -2, 2, 3, 9)\n",
            "(-9, -3, -2, 2, 3, 9)\n",
            "(-9, -6, -4, 1, 7, 11)\n",
            "(-9, -5, -2, 7, 9)\n",
            "(-6, -5, 11)\n",
            "(-9, -7, 1, 6, 9)\n",
            "(-9, -4, -2, 2, 6, 7)\n",
            "(-12, -5, -3, 3, 6, 11)\n",
            "(-9, -6, 1, 3, 11)\n",
            "(-6, -3, 2, 7)\n",
            "(-12, -5, 1, 2, 3, 11)\n",
            "(-7, 1, 6)\n",
            "(-9, 3, 6)\n",
            "(-5, -4, 9)\n",
            "\n",
            "Total Sets:  32 \n",
            "\n"
          ]
        }
      ]
    },
    {
      "cell_type": "markdown",
      "metadata": {
        "id": "E3BNV7YLim12"
      },
      "source": [
        "---\n",
        "### **1.5 Complete Program**\n",
        "---"
      ]
    },
    {
      "cell_type": "code",
      "metadata": {
        "colab": {
          "base_uri": "https://localhost:8080/"
        },
        "id": "c6KthRB9im14",
        "outputId": "c51d1cb9-f9d9-47d7-c258-5a866d3de421"
      },
      "source": [
        "#-------------------------------------------------------------\n",
        "# Step 1: Library inclusion\n",
        "#-------------------------------------------------------------\n",
        "import random as r\n",
        "\n",
        "\n",
        "#-------------------------------------------------------------\n",
        "# Step 2: Parameter Setting\n",
        "#-------------------------------------------------------------\n",
        "Set         = set([-12, -3, -6, 7, 2, -2, 6, 3, 9, -7, -5, -8, 1, 11, -9, -4])\n",
        "SetSize     = 5\n",
        "ResultList  = set()    # Store Result List i.e. list of sets whose sum is zero\n",
        "Iterations  = 1000   # Number of Inerations\n",
        "\n",
        "\n",
        "#-------------------------------------------------------------\n",
        "# Step3: Start Program\n",
        "#-------------------------------------------------------------\n",
        "\n",
        "# Loop till number of Iterations\n",
        "for i in range(Iterations):\n",
        "    # Select number of elements from Set\n",
        "    Chromosome = r.sample(Set,SetSize)\n",
        "\n",
        "    # Sum the number of elements in the Chromosome\n",
        "    if sum(Chromosome) == 0:\n",
        "        ResultList.add(tuple(Chromosome))\n",
        "\n",
        "# Print all the sets whose sum is zero\n",
        "for r in ResultList:\n",
        "\tprint (r)\n",
        "\n",
        "# Print total sets\n",
        "print (\"\\nTotal Sets: \", len(ResultList))\n"
      ],
      "execution_count": 17,
      "outputs": [
        {
          "output_type": "stream",
          "name": "stdout",
          "text": [
            "(6, -4, -3, -6, 7)\n",
            "(1, 6, -5, 7, -9)\n",
            "(-7, 6, 3, 7, -9)\n",
            "(11, 1, -12, -2, 2)\n",
            "(-7, -4, 7, 6, -2)\n",
            "(7, 3, -4, -8, 2)\n",
            "(7, -4, -12, 11, -2)\n",
            "(-8, 2, 1, -4, 9)\n",
            "(9, 11, -9, -5, -6)\n",
            "(7, -4, -7, 6, -2)\n",
            "(2, -8, 7, -4, 3)\n",
            "(-9, -5, 6, 1, 7)\n",
            "(-12, 6, 2, -7, 11)\n",
            "(-5, 7, -8, 9, -3)\n",
            "(-4, -6, 2, 7, 1)\n",
            "(3, -6, -3, 11, -5)\n",
            "(11, -2, 1, -3, -7)\n",
            "(1, 2, 9, -3, -9)\n",
            "(1, -8, 11, -7, 3)\n",
            "(-9, 11, -6, -5, 9)\n",
            "(-8, 9, -5, 3, 1)\n",
            "(-12, -6, 9, 6, 3)\n",
            "\n",
            "Total Sets:  22\n"
          ]
        },
        {
          "output_type": "stream",
          "name": "stderr",
          "text": [
            "<ipython-input-17-e5b06b973959>:23: DeprecationWarning: Sampling from a set deprecated\n",
            "since Python 3.9 and will be removed in a subsequent version.\n",
            "  Chromosome = r.sample(Set,SetSize)\n"
          ]
        }
      ]
    },
    {
      "cell_type": "markdown",
      "metadata": {
        "id": "stxrIcZtk4LT"
      },
      "source": [
        "---\n",
        "### **1.6 Complete Program with sorting**\n",
        "---"
      ]
    },
    {
      "cell_type": "code",
      "metadata": {
        "colab": {
          "base_uri": "https://localhost:8080/"
        },
        "outputId": "86ad4328-4366-44a8-a889-68dc1f351fc9",
        "id": "zzblepy0k4LU"
      },
      "source": [
        "#-------------------------------------------------------------\n",
        "# Step 1: Library inclusion\n",
        "#-------------------------------------------------------------\n",
        "import random as r\n",
        "\n",
        "\n",
        "#-------------------------------------------------------------\n",
        "# Step 2: Parameter Setting\n",
        "#-------------------------------------------------------------\n",
        "Set         = set([-12, -3, -6, 7, 2, -2, 6, 3, 9, -7, -5, -8, 1, 11, -9, -4])\n",
        "SetSize     = 5\n",
        "ResultList  = set()    # Store Result List i.e. list of sets whose sum is zero\n",
        "Iterations  = 1000   # Number of Inerations\n",
        "\n",
        "\n",
        "#-------------------------------------------------------------\n",
        "# Step3: Start Program\n",
        "#-------------------------------------------------------------\n",
        "\n",
        "# Loop till number of Iterations\n",
        "for i in range(Iterations):\n",
        "    # Select number of elements from Set\n",
        "    Chromosome = r.sample(Set,SetSize)\n",
        "    Chromosome.sort()\n",
        "\n",
        "    # Sum the number of elements in the Chromosome\n",
        "    if sum(Chromosome) == 0:\n",
        "        ResultList.add(tuple(Chromosome))\n",
        "\n",
        "# Print all the sets whose sum is zero\n",
        "for r in ResultList:\n",
        "\tprint (r)\n",
        "\n",
        "# Print total sets\n",
        "print (\"\\nTotal Sets: \", len(ResultList))\n"
      ],
      "execution_count": 18,
      "outputs": [
        {
          "output_type": "stream",
          "name": "stdout",
          "text": [
            "(-12, -4, 1, 6, 9)\n",
            "(-9, -8, 2, 6, 9)\n",
            "(-9, -8, -3, 9, 11)\n",
            "(-7, -4, -3, 3, 11)\n",
            "(-8, -4, -3, 6, 9)\n",
            "(-7, -3, 1, 3, 6)\n",
            "(-9, -5, 2, 3, 9)\n",
            "(-9, -3, 1, 2, 9)\n",
            "(-9, -4, -3, 7, 9)\n",
            "(-12, -3, 1, 3, 11)\n",
            "(-8, -3, -2, 6, 7)\n",
            "(-9, -6, -3, 7, 11)\n",
            "(-7, -4, -2, 2, 11)\n",
            "(-6, -5, -2, 2, 11)\n",
            "(-6, -3, 1, 2, 6)\n",
            "(-4, -3, -2, 3, 6)\n",
            "(-6, -4, -2, 3, 9)\n",
            "(-8, -2, 1, 2, 7)\n",
            "(-12, -5, 2, 6, 9)\n",
            "(-9, -5, -3, 6, 11)\n",
            "(-9, -7, 1, 6, 9)\n",
            "(-8, -3, 2, 3, 6)\n",
            "(-7, -6, -5, 7, 11)\n",
            "(-8, -5, -3, 7, 9)\n",
            "\n",
            "Total Sets:  24\n"
          ]
        },
        {
          "output_type": "stream",
          "name": "stderr",
          "text": [
            "<ipython-input-18-74199e36c2e7>:23: DeprecationWarning: Sampling from a set deprecated\n",
            "since Python 3.9 and will be removed in a subsequent version.\n",
            "  Chromosome = r.sample(Set,SetSize)\n"
          ]
        }
      ]
    },
    {
      "cell_type": "markdown",
      "metadata": {
        "id": "Kaevs6ROim18"
      },
      "source": [
        "---\n",
        "####**2. Problem Statement:**\n",
        "Find all the subsets from a set of numbers whose sum is zero.\n",
        "\n",
        "####**Constraint: Subset size must be 3 to 6 only**\n",
        "Set={-12, -3, -6, 7, 2, -2, 6, 3, 9, -7, -5, -8, 1, 11, -9, -4}\n",
        "\n",
        "---"
      ]
    },
    {
      "cell_type": "code",
      "metadata": {
        "colab": {
          "base_uri": "https://localhost:8080/"
        },
        "id": "XmPJbrOXim19",
        "outputId": "b619aba4-8e52-466c-c5ed-8696600d6c75"
      },
      "source": [
        "#-------------------------------------------------------------\n",
        "# Step 1: Library inclusion\n",
        "#-------------------------------------------------------------\n",
        "import random as r\n",
        "\n",
        "\n",
        "#-------------------------------------------------------------\n",
        "# Step 2: Parameter Setting\n",
        "#-------------------------------------------------------------\n",
        "Set         = set([-12, -3, -6, 7, 2, -2, 6, 3, 9, -7, -5, -8, 1, 11, -9, -4])\n",
        "SetLB       = 3\n",
        "SetUB       = 6\n",
        "ResultList  = set()    # Store Result List i.e. list of sets whose sum is zero\n",
        "Iterations  = 1000   # Number of Inerations\n",
        "\n",
        "\n",
        "#-------------------------------------------------------------\n",
        "# Step3: Start Program\n",
        "#-------------------------------------------------------------\n",
        "\n",
        "# Loop till number of Iterations\n",
        "for i in range(Iterations):\n",
        "    # Select set size randomly\n",
        "    SetSize = r.randint(SetLB,SetUB)\n",
        "\n",
        "    # Select number of elements from Set\n",
        "    Chromosome = r.sample(Set,SetSize)\n",
        "    Chromosome.sort()\n",
        "\n",
        "    # Sum the number of elements in the Chromosome\n",
        "    if sum(Chromosome) == 0:\n",
        "        ResultList.add(tuple(Chromosome))\n",
        "\n",
        "# Print all the sets whose sum is zero\n",
        "for r in ResultList:\n",
        "\tprint (r)\n",
        "\n",
        "# Print total sets\n",
        "print (\"\\nTotal Sets: \", len(ResultList))\n"
      ],
      "execution_count": 13,
      "outputs": [
        {
          "output_type": "stream",
          "name": "stdout",
          "text": [
            "(-7, -4, -2, 6, 7)\n",
            "(-8, -3, 2, 9)\n",
            "(-8, -6, 3, 11)\n",
            "(-5, 2, 3)\n",
            "(-6, -3, -2, 1, 3, 7)\n",
            "(-6, -2, 1, 7)\n",
            "(-8, -4, -3, 1, 3, 11)\n",
            "(-7, -4, 1, 3, 7)\n",
            "(-8, -7, -5, 2, 7, 11)\n",
            "(-4, 1, 3)\n",
            "(-5, -4, 2, 7)\n",
            "(-12, 1, 11)\n",
            "(-12, -3, 1, 3, 11)\n",
            "(-9, -3, 1, 11)\n",
            "(-9, -8, -2, 3, 7, 9)\n",
            "(-8, 2, 6)\n",
            "(-7, -6, -2, 1, 3, 11)\n",
            "(-5, -4, -2, 1, 3, 7)\n",
            "(-12, -2, 2, 3, 9)\n",
            "(-9, -3, -2, 2, 3, 9)\n",
            "(-9, -6, -4, 1, 7, 11)\n",
            "(-9, -5, -2, 7, 9)\n",
            "(-6, -5, 11)\n",
            "(-9, -7, 1, 6, 9)\n",
            "(-9, -4, -2, 2, 6, 7)\n",
            "(-12, -5, -3, 3, 6, 11)\n",
            "(-9, -6, 1, 3, 11)\n",
            "(-6, -3, 2, 7)\n",
            "(-12, -5, 1, 2, 3, 11)\n",
            "(-7, 1, 6)\n",
            "(-9, 3, 6)\n",
            "(-5, -4, 9)\n",
            "\n",
            "Total Sets:  32\n"
          ]
        },
        {
          "output_type": "stream",
          "name": "stderr",
          "text": [
            "<ipython-input-13-c329ea93fb8b>:27: DeprecationWarning: Sampling from a set deprecated\n",
            "since Python 3.9 and will be removed in a subsequent version.\n",
            "  Chromosome = r.sample(Set,SetSize)\n"
          ]
        }
      ]
    }
  ]
}